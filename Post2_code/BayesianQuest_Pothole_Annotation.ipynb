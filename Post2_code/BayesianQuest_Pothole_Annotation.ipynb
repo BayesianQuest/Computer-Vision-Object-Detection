{
  "nbformat": 4,
  "nbformat_minor": 0,
  "metadata": {
    "colab": {
      "name": "BayesianQuest_Pothole_Annotation.ipynb",
      "provenance": []
    },
    "kernelspec": {
      "name": "python3",
      "display_name": "Python 3"
    },
    "language_info": {
      "name": "python"
    }
  },
  "cells": [
    {
      "cell_type": "markdown",
      "source": [
        "**Extracting Class and bounding box info from xml files**\n",
        "\n",
        "In this section we will extract all the relevant information from the bounding boxes created"
      ],
      "metadata": {
        "id": "Lpww34QSBUOJ"
      }
    },
    {
      "cell_type": "code",
      "execution_count": null,
      "metadata": {
        "id": "H5Wyd_BYA9RK"
      },
      "outputs": [],
      "source": [
        "import os\n",
        "import glob\n",
        "import pandas as pd\n",
        "import io\n",
        "import xml.etree.ElementTree as ET"
      ]
    },
    {
      "cell_type": "code",
      "source": [
        "# Displaying all the xml files\n",
        "path = '/content/drive/MyDrive/Bayesian Quest/JMJTL-BQ-ObjectDetection/data'\n",
        "allFiles = glob.glob(path + '/*.xml')\n",
        "allFiles"
      ],
      "metadata": {
        "colab": {
          "base_uri": "https://localhost:8080/"
        },
        "id": "sWe4Df8zBcqe",
        "outputId": "e3f8bc5d-b67b-428f-8ce2-fd319dd6a7e3"
      },
      "execution_count": null,
      "outputs": [
        {
          "output_type": "execute_result",
          "data": {
            "text/plain": [
              "['/content/drive/MyDrive/Bayesian Quest/JMJTL-BQ-ObjectDetection/data/pothole1.xml',\n",
              " '/content/drive/MyDrive/Bayesian Quest/JMJTL-BQ-ObjectDetection/data/pothole2.xml',\n",
              " '/content/drive/MyDrive/Bayesian Quest/JMJTL-BQ-ObjectDetection/data/pothole3.xml',\n",
              " '/content/drive/MyDrive/Bayesian Quest/JMJTL-BQ-ObjectDetection/data/pothole4.xml',\n",
              " '/content/drive/MyDrive/Bayesian Quest/JMJTL-BQ-ObjectDetection/data/pothole5.xml',\n",
              " '/content/drive/MyDrive/Bayesian Quest/JMJTL-BQ-ObjectDetection/data/pothole6.xml',\n",
              " '/content/drive/MyDrive/Bayesian Quest/JMJTL-BQ-ObjectDetection/data/pothole7.xml',\n",
              " '/content/drive/MyDrive/Bayesian Quest/JMJTL-BQ-ObjectDetection/data/pothole8.xml',\n",
              " '/content/drive/MyDrive/Bayesian Quest/JMJTL-BQ-ObjectDetection/data/pothole10.xml',\n",
              " '/content/drive/MyDrive/Bayesian Quest/JMJTL-BQ-ObjectDetection/data/pothole9.xml',\n",
              " '/content/drive/MyDrive/Bayesian Quest/JMJTL-BQ-ObjectDetection/data/pothole11.xml',\n",
              " '/content/drive/MyDrive/Bayesian Quest/JMJTL-BQ-ObjectDetection/data/pothole12.xml',\n",
              " '/content/drive/MyDrive/Bayesian Quest/JMJTL-BQ-ObjectDetection/data/pothole13.xml',\n",
              " '/content/drive/MyDrive/Bayesian Quest/JMJTL-BQ-ObjectDetection/data/pothole14.xml',\n",
              " '/content/drive/MyDrive/Bayesian Quest/JMJTL-BQ-ObjectDetection/data/pothole15.xml',\n",
              " '/content/drive/MyDrive/Bayesian Quest/JMJTL-BQ-ObjectDetection/data/pothole16.xml',\n",
              " '/content/drive/MyDrive/Bayesian Quest/JMJTL-BQ-ObjectDetection/data/pothole17.xml',\n",
              " '/content/drive/MyDrive/Bayesian Quest/JMJTL-BQ-ObjectDetection/data/pothole18.xml']"
            ]
          },
          "metadata": {},
          "execution_count": 13
        }
      ]
    },
    {
      "cell_type": "markdown",
      "source": [
        "Next we need to parse through the 'xml'files and then extract the information from the file. We will use the 'ElementTree' method in the xml package to parse through the folder and then get the relevant information.\n",
        "\n",
        "In the first line we get the 'tree' object and the get the 'root' of the xml file. The root object contains all the objects as children. Let us just extract all the elements contained in the xml file.\n",
        "\n",
        "IN the below method we go through each of the elements of the xml file and then extract the tags and the attribute of the element. We can see the major elements in the output. If we compare the xml file we can see all these elements listed in the xml file.\n",
        "\n",
        "In the below the elements named as 'object' are the bounding boxes we annotated in the earlier step. These objects contains the bounding box information we need. We will see how to extract them in a minute"
      ],
      "metadata": {
        "id": "lNTjAd8XBw_-"
      }
    },
    {
      "cell_type": "code",
      "source": [
        "xml_file = allFiles[0]\n",
        "# Get the tree object\n",
        "tree = ET.parse(xml_file)\n",
        "# Get the root of the xml file\n",
        "root = tree.getroot()\n",
        "# Extracting the tag from each child\n",
        "for child in root:\n",
        "    print(child.tag)"
      ],
      "metadata": {
        "colab": {
          "base_uri": "https://localhost:8080/"
        },
        "id": "0Y_NLRK-Bsgm",
        "outputId": "a6bd20d1-5be0-49f9-97f7-8a4dfc19f723"
      },
      "execution_count": null,
      "outputs": [
        {
          "output_type": "stream",
          "name": "stdout",
          "text": [
            "folder\n",
            "filename\n",
            "path\n",
            "source\n",
            "size\n",
            "segmented\n",
            "object\n",
            "object\n",
            "object\n",
            "object\n",
            "object\n",
            "object\n",
            "object\n",
            "object\n"
          ]
        }
      ]
    },
    {
      "cell_type": "markdown",
      "source": [
        "Let us first extract the filename of this xml file using the root.find() method. We need to specify which element we want to look into, which in our case is the 'filename' and to get the filename as a string we give the .text extension."
      ],
      "metadata": {
        "id": "-1_5kO7gCtao"
      }
    },
    {
      "cell_type": "code",
      "source": [
        "filename = root.find('filename').text\n",
        "filename"
      ],
      "metadata": {
        "colab": {
          "base_uri": "https://localhost:8080/",
          "height": 35
        },
        "id": "YyaynJfsCjzO",
        "outputId": "d8137a87-372b-4bf0-cb46-17cc03413e04"
      },
      "execution_count": null,
      "outputs": [
        {
          "output_type": "execute_result",
          "data": {
            "application/vnd.google.colaboratory.intrinsic+json": {
              "type": "string"
            },
            "text/plain": [
              "'pothole1.jpeg'"
            ]
          },
          "metadata": {},
          "execution_count": 15
        }
      ]
    },
    {
      "cell_type": "markdown",
      "source": [
        "Let us now get the width and height of the image. We can see from the xml file that this is contained in the element 'size'. We will use the find() method to extract these elements and the convert the text into integer to get the width and height information we want. Let us get those elements"
      ],
      "metadata": {
        "id": "iC76aPn3C3dO"
      }
    },
    {
      "cell_type": "code",
      "source": [
        "width = int(root.find('size').find('width').text)\n",
        "height = int(root.find('size').find('height').text)\n",
        "print(width,height)"
      ],
      "metadata": {
        "colab": {
          "base_uri": "https://localhost:8080/"
        },
        "id": "5nYMfXZCC4Dr",
        "outputId": "bf547216-65af-4320-d25d-f11e4edcda0c"
      },
      "execution_count": null,
      "outputs": [
        {
          "output_type": "stream",
          "name": "stdout",
          "text": [
            "275 183\n"
          ]
        }
      ]
    },
    {
      "cell_type": "markdown",
      "source": [
        "Our next task is to extract the class names and the bounding box elements. These are contained in each of the 'object' elements under the name 'bndbox'. The class is contained inside this element under the element name 'name' and the bounding boxes are with the element names 'xmin','ymin','xmax','ymax'. Let us look at one of the sample object elements"
      ],
      "metadata": {
        "id": "Zp7pd-z4DZPQ"
      }
    },
    {
      "cell_type": "code",
      "source": [
        "members = root.findall('object')\n",
        "member = members[0]\n",
        "print(member.find('name').text)\n",
        "print(member.find('bndbox').find('xmin').text)"
      ],
      "metadata": {
        "colab": {
          "base_uri": "https://localhost:8080/"
        },
        "id": "OH53MzJEDf8B",
        "outputId": "2447bb5a-554d-439b-b449-d64b21f7137e"
      },
      "execution_count": null,
      "outputs": [
        {
          "output_type": "stream",
          "name": "stdout",
          "text": [
            "pothole\n",
            "64\n"
          ]
        }
      ]
    },
    {
      "cell_type": "markdown",
      "source": [
        "From the above we can see the class name and one of the bounding box values. Now that we have seen all the moving parts of what we want to do, let us encapsulate all these into a function and extract all the information into a pandas dataframe"
      ],
      "metadata": {
        "id": "zPeFes34D8Tw"
      }
    },
    {
      "cell_type": "code",
      "source": [
        "def xml_to_pd(path):\n",
        "    \"\"\"Iterates through all .xml files (generated by labelImg) in a given directory and combines\n",
        "    them in a single Pandas dataframe.\n",
        "\n",
        "    Parameters:\n",
        "    ----------\n",
        "    path : str\n",
        "        The path containing the .xml files\n",
        "    Returns\n",
        "    -------\n",
        "    Pandas DataFrame\n",
        "        The produced dataframe\n",
        "    \"\"\"\n",
        "\n",
        "    xml_list = []\n",
        "    # List down all the files within the path\n",
        "    for xml_file in glob.glob(path + '/*.xml'):\n",
        "        # Get the tree and the root of the xml files\n",
        "        tree = ET.parse(xml_file)\n",
        "        root = tree.getroot()\n",
        "        # Get the filename, width and height from the respective elements\n",
        "        filename = root.find('filename').text\n",
        "        width = int(root.find('size').find('width').text)\n",
        "        height = int(root.find('size').find('height').text)\n",
        "        # Extract the class names and the bounding boxes of the classes\n",
        "        for member in root.findall('object'):\n",
        "            bndbox = member.find('bndbox')\n",
        "            value = (filename,\n",
        "                     width,\n",
        "                     height,\n",
        "                     member.find('name').text,\n",
        "                     int(bndbox.find('xmin').text),\n",
        "                     int(bndbox.find('ymin').text),\n",
        "                     int(bndbox.find('xmax').text),\n",
        "                     int(bndbox.find('ymax').text),\n",
        "                     )\n",
        "            xml_list.append(value)\n",
        "    # Consolidate all the information into a data frame\n",
        "    column_name = ['filename', 'width', 'height',\n",
        "                   'class', 'xmin', 'ymin', 'xmax', 'ymax']\n",
        "    xml_df = pd.DataFrame(xml_list, columns=column_name)\n",
        "    return xml_df"
      ],
      "metadata": {
        "id": "6qqIod26D7cs"
      },
      "execution_count": null,
      "outputs": []
    },
    {
      "cell_type": "code",
      "source": [
        "pothole_df = xml_to_pd(path)\n",
        "pothole_df"
      ],
      "metadata": {
        "colab": {
          "base_uri": "https://localhost:8080/",
          "height": 423
        },
        "id": "vftjpKBDENes",
        "outputId": "b75480bb-724b-41b9-ecec-0800a4d87889"
      },
      "execution_count": null,
      "outputs": [
        {
          "output_type": "execute_result",
          "data": {
            "text/html": [
              "\n",
              "  <div id=\"df-c38c3889-8655-42fb-be6a-484bc276ba60\">\n",
              "    <div class=\"colab-df-container\">\n",
              "      <div>\n",
              "<style scoped>\n",
              "    .dataframe tbody tr th:only-of-type {\n",
              "        vertical-align: middle;\n",
              "    }\n",
              "\n",
              "    .dataframe tbody tr th {\n",
              "        vertical-align: top;\n",
              "    }\n",
              "\n",
              "    .dataframe thead th {\n",
              "        text-align: right;\n",
              "    }\n",
              "</style>\n",
              "<table border=\"1\" class=\"dataframe\">\n",
              "  <thead>\n",
              "    <tr style=\"text-align: right;\">\n",
              "      <th></th>\n",
              "      <th>filename</th>\n",
              "      <th>width</th>\n",
              "      <th>height</th>\n",
              "      <th>class</th>\n",
              "      <th>xmin</th>\n",
              "      <th>ymin</th>\n",
              "      <th>xmax</th>\n",
              "      <th>ymax</th>\n",
              "    </tr>\n",
              "  </thead>\n",
              "  <tbody>\n",
              "    <tr>\n",
              "      <th>0</th>\n",
              "      <td>pothole1.jpeg</td>\n",
              "      <td>275</td>\n",
              "      <td>183</td>\n",
              "      <td>pothole</td>\n",
              "      <td>64</td>\n",
              "      <td>78</td>\n",
              "      <td>130</td>\n",
              "      <td>107</td>\n",
              "    </tr>\n",
              "    <tr>\n",
              "      <th>1</th>\n",
              "      <td>pothole1.jpeg</td>\n",
              "      <td>275</td>\n",
              "      <td>183</td>\n",
              "      <td>pothole</td>\n",
              "      <td>44</td>\n",
              "      <td>105</td>\n",
              "      <td>131</td>\n",
              "      <td>154</td>\n",
              "    </tr>\n",
              "    <tr>\n",
              "      <th>2</th>\n",
              "      <td>pothole1.jpeg</td>\n",
              "      <td>275</td>\n",
              "      <td>183</td>\n",
              "      <td>pothole</td>\n",
              "      <td>12</td>\n",
              "      <td>151</td>\n",
              "      <td>59</td>\n",
              "      <td>177</td>\n",
              "    </tr>\n",
              "    <tr>\n",
              "      <th>3</th>\n",
              "      <td>pothole1.jpeg</td>\n",
              "      <td>275</td>\n",
              "      <td>183</td>\n",
              "      <td>vegetation</td>\n",
              "      <td>163</td>\n",
              "      <td>33</td>\n",
              "      <td>254</td>\n",
              "      <td>58</td>\n",
              "    </tr>\n",
              "    <tr>\n",
              "      <th>4</th>\n",
              "      <td>pothole1.jpeg</td>\n",
              "      <td>275</td>\n",
              "      <td>183</td>\n",
              "      <td>pothole</td>\n",
              "      <td>115</td>\n",
              "      <td>54</td>\n",
              "      <td>142</td>\n",
              "      <td>74</td>\n",
              "    </tr>\n",
              "    <tr>\n",
              "      <th>...</th>\n",
              "      <td>...</td>\n",
              "      <td>...</td>\n",
              "      <td>...</td>\n",
              "      <td>...</td>\n",
              "      <td>...</td>\n",
              "      <td>...</td>\n",
              "      <td>...</td>\n",
              "      <td>...</td>\n",
              "    </tr>\n",
              "    <tr>\n",
              "      <th>60</th>\n",
              "      <td>pothole18.jpeg</td>\n",
              "      <td>201</td>\n",
              "      <td>251</td>\n",
              "      <td>vehicle</td>\n",
              "      <td>9</td>\n",
              "      <td>99</td>\n",
              "      <td>52</td>\n",
              "      <td>128</td>\n",
              "    </tr>\n",
              "    <tr>\n",
              "      <th>61</th>\n",
              "      <td>pothole18.jpeg</td>\n",
              "      <td>201</td>\n",
              "      <td>251</td>\n",
              "      <td>vehicle</td>\n",
              "      <td>85</td>\n",
              "      <td>61</td>\n",
              "      <td>120</td>\n",
              "      <td>86</td>\n",
              "    </tr>\n",
              "    <tr>\n",
              "      <th>62</th>\n",
              "      <td>pothole18.jpeg</td>\n",
              "      <td>201</td>\n",
              "      <td>251</td>\n",
              "      <td>vehicle</td>\n",
              "      <td>106</td>\n",
              "      <td>5</td>\n",
              "      <td>147</td>\n",
              "      <td>45</td>\n",
              "    </tr>\n",
              "    <tr>\n",
              "      <th>63</th>\n",
              "      <td>pothole18.jpeg</td>\n",
              "      <td>201</td>\n",
              "      <td>251</td>\n",
              "      <td>vehicle</td>\n",
              "      <td>91</td>\n",
              "      <td>44</td>\n",
              "      <td>117</td>\n",
              "      <td>61</td>\n",
              "    </tr>\n",
              "    <tr>\n",
              "      <th>64</th>\n",
              "      <td>pothole18.jpeg</td>\n",
              "      <td>201</td>\n",
              "      <td>251</td>\n",
              "      <td>vehicle</td>\n",
              "      <td>79</td>\n",
              "      <td>16</td>\n",
              "      <td>111</td>\n",
              "      <td>43</td>\n",
              "    </tr>\n",
              "  </tbody>\n",
              "</table>\n",
              "<p>65 rows × 8 columns</p>\n",
              "</div>\n",
              "      <button class=\"colab-df-convert\" onclick=\"convertToInteractive('df-c38c3889-8655-42fb-be6a-484bc276ba60')\"\n",
              "              title=\"Convert this dataframe to an interactive table.\"\n",
              "              style=\"display:none;\">\n",
              "        \n",
              "  <svg xmlns=\"http://www.w3.org/2000/svg\" height=\"24px\"viewBox=\"0 0 24 24\"\n",
              "       width=\"24px\">\n",
              "    <path d=\"M0 0h24v24H0V0z\" fill=\"none\"/>\n",
              "    <path d=\"M18.56 5.44l.94 2.06.94-2.06 2.06-.94-2.06-.94-.94-2.06-.94 2.06-2.06.94zm-11 1L8.5 8.5l.94-2.06 2.06-.94-2.06-.94L8.5 2.5l-.94 2.06-2.06.94zm10 10l.94 2.06.94-2.06 2.06-.94-2.06-.94-.94-2.06-.94 2.06-2.06.94z\"/><path d=\"M17.41 7.96l-1.37-1.37c-.4-.4-.92-.59-1.43-.59-.52 0-1.04.2-1.43.59L10.3 9.45l-7.72 7.72c-.78.78-.78 2.05 0 2.83L4 21.41c.39.39.9.59 1.41.59.51 0 1.02-.2 1.41-.59l7.78-7.78 2.81-2.81c.8-.78.8-2.07 0-2.86zM5.41 20L4 18.59l7.72-7.72 1.47 1.35L5.41 20z\"/>\n",
              "  </svg>\n",
              "      </button>\n",
              "      \n",
              "  <style>\n",
              "    .colab-df-container {\n",
              "      display:flex;\n",
              "      flex-wrap:wrap;\n",
              "      gap: 12px;\n",
              "    }\n",
              "\n",
              "    .colab-df-convert {\n",
              "      background-color: #E8F0FE;\n",
              "      border: none;\n",
              "      border-radius: 50%;\n",
              "      cursor: pointer;\n",
              "      display: none;\n",
              "      fill: #1967D2;\n",
              "      height: 32px;\n",
              "      padding: 0 0 0 0;\n",
              "      width: 32px;\n",
              "    }\n",
              "\n",
              "    .colab-df-convert:hover {\n",
              "      background-color: #E2EBFA;\n",
              "      box-shadow: 0px 1px 2px rgba(60, 64, 67, 0.3), 0px 1px 3px 1px rgba(60, 64, 67, 0.15);\n",
              "      fill: #174EA6;\n",
              "    }\n",
              "\n",
              "    [theme=dark] .colab-df-convert {\n",
              "      background-color: #3B4455;\n",
              "      fill: #D2E3FC;\n",
              "    }\n",
              "\n",
              "    [theme=dark] .colab-df-convert:hover {\n",
              "      background-color: #434B5C;\n",
              "      box-shadow: 0px 1px 3px 1px rgba(0, 0, 0, 0.15);\n",
              "      filter: drop-shadow(0px 1px 2px rgba(0, 0, 0, 0.3));\n",
              "      fill: #FFFFFF;\n",
              "    }\n",
              "  </style>\n",
              "\n",
              "      <script>\n",
              "        const buttonEl =\n",
              "          document.querySelector('#df-c38c3889-8655-42fb-be6a-484bc276ba60 button.colab-df-convert');\n",
              "        buttonEl.style.display =\n",
              "          google.colab.kernel.accessAllowed ? 'block' : 'none';\n",
              "\n",
              "        async function convertToInteractive(key) {\n",
              "          const element = document.querySelector('#df-c38c3889-8655-42fb-be6a-484bc276ba60');\n",
              "          const dataTable =\n",
              "            await google.colab.kernel.invokeFunction('convertToInteractive',\n",
              "                                                     [key], {});\n",
              "          if (!dataTable) return;\n",
              "\n",
              "          const docLinkHtml = 'Like what you see? Visit the ' +\n",
              "            '<a target=\"_blank\" href=https://colab.research.google.com/notebooks/data_table.ipynb>data table notebook</a>'\n",
              "            + ' to learn more about interactive tables.';\n",
              "          element.innerHTML = '';\n",
              "          dataTable['output_type'] = 'display_data';\n",
              "          await google.colab.output.renderOutput(dataTable, element);\n",
              "          const docLink = document.createElement('div');\n",
              "          docLink.innerHTML = docLinkHtml;\n",
              "          element.appendChild(docLink);\n",
              "        }\n",
              "      </script>\n",
              "    </div>\n",
              "  </div>\n",
              "  "
            ],
            "text/plain": [
              "          filename  width  height       class  xmin  ymin  xmax  ymax\n",
              "0    pothole1.jpeg    275     183     pothole    64    78   130   107\n",
              "1    pothole1.jpeg    275     183     pothole    44   105   131   154\n",
              "2    pothole1.jpeg    275     183     pothole    12   151    59   177\n",
              "3    pothole1.jpeg    275     183  vegetation   163    33   254    58\n",
              "4    pothole1.jpeg    275     183     pothole   115    54   142    74\n",
              "..             ...    ...     ...         ...   ...   ...   ...   ...\n",
              "60  pothole18.jpeg    201     251     vehicle     9    99    52   128\n",
              "61  pothole18.jpeg    201     251     vehicle    85    61   120    86\n",
              "62  pothole18.jpeg    201     251     vehicle   106     5   147    45\n",
              "63  pothole18.jpeg    201     251     vehicle    91    44   117    61\n",
              "64  pothole18.jpeg    201     251     vehicle    79    16   111    43\n",
              "\n",
              "[65 rows x 8 columns]"
            ]
          },
          "metadata": {},
          "execution_count": 19
        }
      ]
    }
  ]
}